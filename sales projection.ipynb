{
 "cells": [
  {
   "cell_type": "code",
   "execution_count": 1,
   "id": "07ab8ef7",
   "metadata": {},
   "outputs": [],
   "source": [
    "import numpy as np\n",
    "import pandas as pd\n",
    "import matplotlib.pyplot as plt\n",
    "%matplotlib inline\n",
    "import seaborn as sns"
   ]
  },
  {
   "cell_type": "code",
   "execution_count": 2,
   "id": "5ac5030a",
   "metadata": {},
   "outputs": [
    {
     "data": {
      "text/html": [
       "<div>\n",
       "<style scoped>\n",
       "    .dataframe tbody tr th:only-of-type {\n",
       "        vertical-align: middle;\n",
       "    }\n",
       "\n",
       "    .dataframe tbody tr th {\n",
       "        vertical-align: top;\n",
       "    }\n",
       "\n",
       "    .dataframe thead th {\n",
       "        text-align: right;\n",
       "    }\n",
       "</style>\n",
       "<table border=\"1\" class=\"dataframe\">\n",
       "  <thead>\n",
       "    <tr style=\"text-align: right;\">\n",
       "      <th></th>\n",
       "      <th>ID</th>\n",
       "      <th>Store_id</th>\n",
       "      <th>Store_Type</th>\n",
       "      <th>Location_Type</th>\n",
       "      <th>Region_Code</th>\n",
       "      <th>Date</th>\n",
       "      <th>Holiday</th>\n",
       "      <th>Discount</th>\n",
       "      <th>#Order</th>\n",
       "      <th>Sales</th>\n",
       "    </tr>\n",
       "  </thead>\n",
       "  <tbody>\n",
       "    <tr>\n",
       "      <th>0</th>\n",
       "      <td>T1000001</td>\n",
       "      <td>1</td>\n",
       "      <td>S1</td>\n",
       "      <td>L3</td>\n",
       "      <td>R1</td>\n",
       "      <td>2018-01-01</td>\n",
       "      <td>1</td>\n",
       "      <td>Yes</td>\n",
       "      <td>9</td>\n",
       "      <td>7011.84</td>\n",
       "    </tr>\n",
       "    <tr>\n",
       "      <th>1</th>\n",
       "      <td>T1000002</td>\n",
       "      <td>253</td>\n",
       "      <td>S4</td>\n",
       "      <td>L2</td>\n",
       "      <td>R1</td>\n",
       "      <td>2018-01-01</td>\n",
       "      <td>1</td>\n",
       "      <td>Yes</td>\n",
       "      <td>60</td>\n",
       "      <td>51789.12</td>\n",
       "    </tr>\n",
       "    <tr>\n",
       "      <th>2</th>\n",
       "      <td>T1000003</td>\n",
       "      <td>252</td>\n",
       "      <td>S3</td>\n",
       "      <td>L2</td>\n",
       "      <td>R1</td>\n",
       "      <td>2018-01-01</td>\n",
       "      <td>1</td>\n",
       "      <td>Yes</td>\n",
       "      <td>42</td>\n",
       "      <td>36868.20</td>\n",
       "    </tr>\n",
       "    <tr>\n",
       "      <th>3</th>\n",
       "      <td>T1000004</td>\n",
       "      <td>251</td>\n",
       "      <td>S2</td>\n",
       "      <td>L3</td>\n",
       "      <td>R1</td>\n",
       "      <td>2018-01-01</td>\n",
       "      <td>1</td>\n",
       "      <td>Yes</td>\n",
       "      <td>23</td>\n",
       "      <td>19715.16</td>\n",
       "    </tr>\n",
       "    <tr>\n",
       "      <th>4</th>\n",
       "      <td>T1000005</td>\n",
       "      <td>250</td>\n",
       "      <td>S2</td>\n",
       "      <td>L3</td>\n",
       "      <td>R4</td>\n",
       "      <td>2018-01-01</td>\n",
       "      <td>1</td>\n",
       "      <td>Yes</td>\n",
       "      <td>62</td>\n",
       "      <td>45614.52</td>\n",
       "    </tr>\n",
       "  </tbody>\n",
       "</table>\n",
       "</div>"
      ],
      "text/plain": [
       "         ID  Store_id Store_Type Location_Type Region_Code        Date  \\\n",
       "0  T1000001         1         S1            L3          R1  2018-01-01   \n",
       "1  T1000002       253         S4            L2          R1  2018-01-01   \n",
       "2  T1000003       252         S3            L2          R1  2018-01-01   \n",
       "3  T1000004       251         S2            L3          R1  2018-01-01   \n",
       "4  T1000005       250         S2            L3          R4  2018-01-01   \n",
       "\n",
       "   Holiday Discount  #Order     Sales  \n",
       "0        1      Yes       9   7011.84  \n",
       "1        1      Yes      60  51789.12  \n",
       "2        1      Yes      42  36868.20  \n",
       "3        1      Yes      23  19715.16  \n",
       "4        1      Yes      62  45614.52  "
      ]
     },
     "execution_count": 2,
     "metadata": {},
     "output_type": "execute_result"
    }
   ],
   "source": [
    "train_df = pd.read_csv('C:/Users/Sarthak/Downloads/TRAIN.csv')\n",
    "test_df = pd.read_csv('C:/Users/Sarthak/Downloads/TEST_FINAL.csv')\n",
    "train_df.head()"
   ]
  },
  {
   "cell_type": "code",
   "execution_count": 3,
   "id": "f149b785",
   "metadata": {},
   "outputs": [
    {
     "data": {
      "text/html": [
       "<div>\n",
       "<style scoped>\n",
       "    .dataframe tbody tr th:only-of-type {\n",
       "        vertical-align: middle;\n",
       "    }\n",
       "\n",
       "    .dataframe tbody tr th {\n",
       "        vertical-align: top;\n",
       "    }\n",
       "\n",
       "    .dataframe thead th {\n",
       "        text-align: right;\n",
       "    }\n",
       "</style>\n",
       "<table border=\"1\" class=\"dataframe\">\n",
       "  <thead>\n",
       "    <tr style=\"text-align: right;\">\n",
       "      <th></th>\n",
       "      <th>ID</th>\n",
       "      <th>Store_id</th>\n",
       "      <th>Store_Type</th>\n",
       "      <th>Location_Type</th>\n",
       "      <th>Region_Code</th>\n",
       "      <th>Date</th>\n",
       "      <th>Holiday</th>\n",
       "      <th>Discount</th>\n",
       "    </tr>\n",
       "  </thead>\n",
       "  <tbody>\n",
       "    <tr>\n",
       "      <th>0</th>\n",
       "      <td>T1188341</td>\n",
       "      <td>171</td>\n",
       "      <td>S4</td>\n",
       "      <td>L2</td>\n",
       "      <td>R3</td>\n",
       "      <td>2019-06-01</td>\n",
       "      <td>0</td>\n",
       "      <td>No</td>\n",
       "    </tr>\n",
       "    <tr>\n",
       "      <th>1</th>\n",
       "      <td>T1188342</td>\n",
       "      <td>172</td>\n",
       "      <td>S1</td>\n",
       "      <td>L1</td>\n",
       "      <td>R1</td>\n",
       "      <td>2019-06-01</td>\n",
       "      <td>0</td>\n",
       "      <td>No</td>\n",
       "    </tr>\n",
       "    <tr>\n",
       "      <th>2</th>\n",
       "      <td>T1188343</td>\n",
       "      <td>173</td>\n",
       "      <td>S4</td>\n",
       "      <td>L2</td>\n",
       "      <td>R1</td>\n",
       "      <td>2019-06-01</td>\n",
       "      <td>0</td>\n",
       "      <td>No</td>\n",
       "    </tr>\n",
       "    <tr>\n",
       "      <th>3</th>\n",
       "      <td>T1188344</td>\n",
       "      <td>174</td>\n",
       "      <td>S1</td>\n",
       "      <td>L1</td>\n",
       "      <td>R4</td>\n",
       "      <td>2019-06-01</td>\n",
       "      <td>0</td>\n",
       "      <td>No</td>\n",
       "    </tr>\n",
       "    <tr>\n",
       "      <th>4</th>\n",
       "      <td>T1188345</td>\n",
       "      <td>170</td>\n",
       "      <td>S1</td>\n",
       "      <td>L1</td>\n",
       "      <td>R2</td>\n",
       "      <td>2019-06-01</td>\n",
       "      <td>0</td>\n",
       "      <td>No</td>\n",
       "    </tr>\n",
       "  </tbody>\n",
       "</table>\n",
       "</div>"
      ],
      "text/plain": [
       "         ID  Store_id Store_Type Location_Type Region_Code        Date  \\\n",
       "0  T1188341       171         S4            L2          R3  2019-06-01   \n",
       "1  T1188342       172         S1            L1          R1  2019-06-01   \n",
       "2  T1188343       173         S4            L2          R1  2019-06-01   \n",
       "3  T1188344       174         S1            L1          R4  2019-06-01   \n",
       "4  T1188345       170         S1            L1          R2  2019-06-01   \n",
       "\n",
       "   Holiday Discount  \n",
       "0        0       No  \n",
       "1        0       No  \n",
       "2        0       No  \n",
       "3        0       No  \n",
       "4        0       No  "
      ]
     },
     "execution_count": 3,
     "metadata": {},
     "output_type": "execute_result"
    }
   ],
   "source": [
    "test_df.head()"
   ]
  },
  {
   "cell_type": "code",
   "execution_count": 4,
   "id": "0290ad9a",
   "metadata": {},
   "outputs": [
    {
     "name": "stdout",
     "output_type": "stream",
     "text": [
      "(188340, 10) (22265, 8)\n"
     ]
    }
   ],
   "source": [
    "print(train_df.shape , test_df.shape)"
   ]
  },
  {
   "cell_type": "markdown",
   "id": "71dbc5f1",
   "metadata": {},
   "source": [
    "\"#order\" feature is missing in test_df. We will need to access correlation of #order feature with sales"
   ]
  },
  {
   "cell_type": "code",
   "execution_count": 5,
   "id": "1e49e870",
   "metadata": {},
   "outputs": [
    {
     "name": "stdout",
     "output_type": "stream",
     "text": [
      "<class 'pandas.core.frame.DataFrame'>\n",
      "RangeIndex: 188340 entries, 0 to 188339\n",
      "Data columns (total 10 columns):\n",
      " #   Column         Non-Null Count   Dtype  \n",
      "---  ------         --------------   -----  \n",
      " 0   ID             188340 non-null  object \n",
      " 1   Store_id       188340 non-null  int64  \n",
      " 2   Store_Type     188340 non-null  object \n",
      " 3   Location_Type  188340 non-null  object \n",
      " 4   Region_Code    188340 non-null  object \n",
      " 5   Date           188340 non-null  object \n",
      " 6   Holiday        188340 non-null  int64  \n",
      " 7   Discount       188340 non-null  object \n",
      " 8   #Order         188340 non-null  int64  \n",
      " 9   Sales          188340 non-null  float64\n",
      "dtypes: float64(1), int64(3), object(6)\n",
      "memory usage: 14.4+ MB\n"
     ]
    }
   ],
   "source": [
    "train_df.info()"
   ]
  },
  {
   "cell_type": "code",
   "execution_count": 6,
   "id": "fdd19a54",
   "metadata": {},
   "outputs": [
    {
     "data": {
      "text/html": [
       "<div>\n",
       "<style scoped>\n",
       "    .dataframe tbody tr th:only-of-type {\n",
       "        vertical-align: middle;\n",
       "    }\n",
       "\n",
       "    .dataframe tbody tr th {\n",
       "        vertical-align: top;\n",
       "    }\n",
       "\n",
       "    .dataframe thead th {\n",
       "        text-align: right;\n",
       "    }\n",
       "</style>\n",
       "<table border=\"1\" class=\"dataframe\">\n",
       "  <thead>\n",
       "    <tr style=\"text-align: right;\">\n",
       "      <th></th>\n",
       "      <th>Store_id</th>\n",
       "      <th>Holiday</th>\n",
       "      <th>#Order</th>\n",
       "      <th>Sales</th>\n",
       "    </tr>\n",
       "  </thead>\n",
       "  <tbody>\n",
       "    <tr>\n",
       "      <th>count</th>\n",
       "      <td>188340.000000</td>\n",
       "      <td>188340.000000</td>\n",
       "      <td>188340.000000</td>\n",
       "      <td>188340.000000</td>\n",
       "    </tr>\n",
       "    <tr>\n",
       "      <th>mean</th>\n",
       "      <td>183.000000</td>\n",
       "      <td>0.131783</td>\n",
       "      <td>68.205692</td>\n",
       "      <td>42784.327982</td>\n",
       "    </tr>\n",
       "    <tr>\n",
       "      <th>std</th>\n",
       "      <td>105.366308</td>\n",
       "      <td>0.338256</td>\n",
       "      <td>30.467415</td>\n",
       "      <td>18456.708302</td>\n",
       "    </tr>\n",
       "    <tr>\n",
       "      <th>min</th>\n",
       "      <td>1.000000</td>\n",
       "      <td>0.000000</td>\n",
       "      <td>0.000000</td>\n",
       "      <td>0.000000</td>\n",
       "    </tr>\n",
       "    <tr>\n",
       "      <th>25%</th>\n",
       "      <td>92.000000</td>\n",
       "      <td>0.000000</td>\n",
       "      <td>48.000000</td>\n",
       "      <td>30426.000000</td>\n",
       "    </tr>\n",
       "    <tr>\n",
       "      <th>50%</th>\n",
       "      <td>183.000000</td>\n",
       "      <td>0.000000</td>\n",
       "      <td>63.000000</td>\n",
       "      <td>39678.000000</td>\n",
       "    </tr>\n",
       "    <tr>\n",
       "      <th>75%</th>\n",
       "      <td>274.000000</td>\n",
       "      <td>0.000000</td>\n",
       "      <td>82.000000</td>\n",
       "      <td>51909.000000</td>\n",
       "    </tr>\n",
       "    <tr>\n",
       "      <th>max</th>\n",
       "      <td>365.000000</td>\n",
       "      <td>1.000000</td>\n",
       "      <td>371.000000</td>\n",
       "      <td>247215.000000</td>\n",
       "    </tr>\n",
       "  </tbody>\n",
       "</table>\n",
       "</div>"
      ],
      "text/plain": [
       "            Store_id        Holiday         #Order          Sales\n",
       "count  188340.000000  188340.000000  188340.000000  188340.000000\n",
       "mean      183.000000       0.131783      68.205692   42784.327982\n",
       "std       105.366308       0.338256      30.467415   18456.708302\n",
       "min         1.000000       0.000000       0.000000       0.000000\n",
       "25%        92.000000       0.000000      48.000000   30426.000000\n",
       "50%       183.000000       0.000000      63.000000   39678.000000\n",
       "75%       274.000000       0.000000      82.000000   51909.000000\n",
       "max       365.000000       1.000000     371.000000  247215.000000"
      ]
     },
     "execution_count": 6,
     "metadata": {},
     "output_type": "execute_result"
    }
   ],
   "source": [
    "train_df.describe()"
   ]
  },
  {
   "cell_type": "markdown",
   "id": "c6c01df4",
   "metadata": {},
   "source": [
    "### Lets explore ###"
   ]
  },
  {
   "cell_type": "code",
   "execution_count": 7,
   "id": "0e3d843a",
   "metadata": {},
   "outputs": [
    {
     "name": "stderr",
     "output_type": "stream",
     "text": [
      "C:\\Users\\Sarthak\\anaconda3\\lib\\site-packages\\seaborn\\distributions.py:2557: FutureWarning: `distplot` is a deprecated function and will be removed in a future version. Please adapt your code to use either `displot` (a figure-level function with similar flexibility) or `histplot` (an axes-level function for histograms).\n",
      "  warnings.warn(msg, FutureWarning)\n"
     ]
    },
    {
     "name": "stdout",
     "output_type": "stream",
     "text": [
      "Skew =  1.248819154338717\n"
     ]
    },
    {
     "data": {
      "image/png": "[encoded data removed]",
      "text/plain": [
       "<Figure size 432x288 with 1 Axes>"
      ]
     },
     "metadata": {
      "needs_background": "light"
     },
     "output_type": "display_data"
    }
   ],
   "source": [
    "sns.distplot(train_df['Sales'])\n",
    "#skewness\n",
    "print(\"Skew = \",train_df['Sales'].skew())"
   ]
  },
  {
   "cell_type": "markdown",
   "id": "4eb1f66f",
   "metadata": {},
   "source": [
    "It is evident that the target variable 'Sales' has a right-skewed distribution. We'll need to log transform this variable so that it becomes normally distributed."
   ]
  },
  {
   "cell_type": "code",
   "execution_count": 8,
   "id": "9fef5521",
   "metadata": {},
   "outputs": [],
   "source": [
    "# removing prefix from Store_Type,\tLocation_Type,\tRegion_Code\tand converting to int\n",
    "new_Store_Type = []\n",
    "new_Location_Type = []\n",
    "new_Region_Code = []\n",
    "for i in train_df.Store_Type:\n",
    "    new_Store_Type.append(int(i[1:]))\n",
    "for j in train_df.Location_Type:\n",
    "    new_Location_Type.append(int(j[1:]))\n",
    "for k in train_df.Region_Code:\n",
    "    new_Region_Code.append(int(k[1:]))\n",
    "    \n",
    "train_df['new_Store_Type'] = new_Store_Type\n",
    "train_df['new_Location_Type'] = new_Location_Type\n",
    "train_df['new_Region_Code'] = new_Region_Code"
   ]
  },
  {
   "cell_type": "code",
   "execution_count": 9,
   "id": "5ac961c9",
   "metadata": {},
   "outputs": [],
   "source": [
    "# removing prefix from Store_Type,\tLocation_Type,\tRegion_Code\tand converting to int\n",
    "new_Store_Type = []\n",
    "new_Location_Type = []\n",
    "new_Region_Code = []\n",
    "for i in test_df.Store_Type:\n",
    "    new_Store_Type.append(int(i[1:]))\n",
    "for j in test_df.Location_Type:\n",
    "    new_Location_Type.append(int(j[1:]))\n",
    "for k in test_df.Region_Code:\n",
    "    new_Region_Code.append(int(k[1:]))\n",
    "    \n",
    "test_df['new_Store_Type'] = new_Store_Type\n",
    "test_df['new_Location_Type'] = new_Location_Type\n",
    "test_df['new_Region_Code'] = new_Region_Code"
   ]
  },
  {
   "cell_type": "markdown",
   "id": "0096f546",
   "metadata": {},
   "source": [
    "Since there is no time data given, I will break the date column into 3 columns: day, month and year"
   ]
  },
  {
   "cell_type": "code",
   "execution_count": 10,
   "id": "15ef3433",
   "metadata": {},
   "outputs": [],
   "source": [
    "year = []\n",
    "month = []\n",
    "day = []\n",
    "\n",
    "for i in train_df.Date:\n",
    "    year.append(int(i[0:4]))\n",
    "    month.append(int(i[5:7]))\n",
    "    day.append(int(i[8:]))\n",
    "\n",
    "train_df['year'] = year\n",
    "train_df['month'] = month\n",
    "train_df['day'] = day"
   ]
  },
  {
   "cell_type": "code",
   "execution_count": 11,
   "id": "3412725a",
   "metadata": {},
   "outputs": [],
   "source": [
    "year = []\n",
    "month = []\n",
    "day = []\n",
    "\n",
    "for i in test_df.Date:\n",
    "    year.append(int(i[0:4]))\n",
    "    month.append(int(i[5:7]))\n",
    "    day.append(int(i[8:]))\n",
    "\n",
    "test_df['year'] = year\n",
    "test_df['month'] = month\n",
    "test_df['day'] = day"
   ]
  },
  {
   "cell_type": "code",
   "execution_count": 12,
   "id": "e6e4c75b",
   "metadata": {},
   "outputs": [
    {
     "data": {
      "text/html": [
       "<div>\n",
       "<style scoped>\n",
       "    .dataframe tbody tr th:only-of-type {\n",
       "        vertical-align: middle;\n",
       "    }\n",
       "\n",
       "    .dataframe tbody tr th {\n",
       "        vertical-align: top;\n",
       "    }\n",
       "\n",
       "    .dataframe thead th {\n",
       "        text-align: right;\n",
       "    }\n",
       "</style>\n",
       "<table border=\"1\" class=\"dataframe\">\n",
       "  <thead>\n",
       "    <tr style=\"text-align: right;\">\n",
       "      <th></th>\n",
       "      <th>Store_id</th>\n",
       "      <th>Holiday</th>\n",
       "      <th>#Order</th>\n",
       "      <th>Sales</th>\n",
       "      <th>new_Store_Type</th>\n",
       "      <th>new_Location_Type</th>\n",
       "      <th>new_Region_Code</th>\n",
       "      <th>year</th>\n",
       "      <th>month</th>\n",
       "      <th>day</th>\n",
       "    </tr>\n",
       "  </thead>\n",
       "  <tbody>\n",
       "    <tr>\n",
       "      <th>Store_id</th>\n",
       "      <td>1.000000e+00</td>\n",
       "      <td>5.380970e-16</td>\n",
       "      <td>0.028290</td>\n",
       "      <td>0.004377</td>\n",
       "      <td>8.627203e-02</td>\n",
       "      <td>6.729649e-02</td>\n",
       "      <td>-1.252935e-01</td>\n",
       "      <td>4.924216e-15</td>\n",
       "      <td>-2.816837e-16</td>\n",
       "      <td>-4.550589e-17</td>\n",
       "    </tr>\n",
       "    <tr>\n",
       "      <th>Holiday</th>\n",
       "      <td>5.380970e-16</td>\n",
       "      <td>1.000000e+00</td>\n",
       "      <td>-0.140496</td>\n",
       "      <td>-0.154779</td>\n",
       "      <td>7.021551e-16</td>\n",
       "      <td>6.219958e-16</td>\n",
       "      <td>1.221878e-15</td>\n",
       "      <td>1.386181e-02</td>\n",
       "      <td>1.370518e-02</td>\n",
       "      <td>1.366827e-02</td>\n",
       "    </tr>\n",
       "    <tr>\n",
       "      <th>#Order</th>\n",
       "      <td>2.828985e-02</td>\n",
       "      <td>-1.404963e-01</td>\n",
       "      <td>1.000000</td>\n",
       "      <td>0.941601</td>\n",
       "      <td>5.838000e-01</td>\n",
       "      <td>-2.485666e-01</td>\n",
       "      <td>-2.356142e-01</td>\n",
       "      <td>2.285999e-02</td>\n",
       "      <td>-2.863725e-03</td>\n",
       "      <td>-1.795101e-02</td>\n",
       "    </tr>\n",
       "    <tr>\n",
       "      <th>Sales</th>\n",
       "      <td>4.376631e-03</td>\n",
       "      <td>-1.547788e-01</td>\n",
       "      <td>0.941601</td>\n",
       "      <td>1.000000</td>\n",
       "      <td>4.924707e-01</td>\n",
       "      <td>-2.837714e-01</td>\n",
       "      <td>-1.210026e-01</td>\n",
       "      <td>1.828431e-02</td>\n",
       "      <td>-1.809195e-02</td>\n",
       "      <td>-3.896935e-02</td>\n",
       "    </tr>\n",
       "    <tr>\n",
       "      <th>new_Store_Type</th>\n",
       "      <td>8.627203e-02</td>\n",
       "      <td>7.021551e-16</td>\n",
       "      <td>0.583800</td>\n",
       "      <td>0.492471</td>\n",
       "      <td>1.000000e+00</td>\n",
       "      <td>-1.009121e-01</td>\n",
       "      <td>-2.438844e-01</td>\n",
       "      <td>1.093268e-14</td>\n",
       "      <td>5.232364e-15</td>\n",
       "      <td>8.270544e-16</td>\n",
       "    </tr>\n",
       "    <tr>\n",
       "      <th>new_Location_Type</th>\n",
       "      <td>6.729649e-02</td>\n",
       "      <td>6.219958e-16</td>\n",
       "      <td>-0.248567</td>\n",
       "      <td>-0.283771</td>\n",
       "      <td>-1.009121e-01</td>\n",
       "      <td>1.000000e+00</td>\n",
       "      <td>-7.198033e-02</td>\n",
       "      <td>-4.650599e-15</td>\n",
       "      <td>7.869645e-15</td>\n",
       "      <td>-6.244640e-17</td>\n",
       "    </tr>\n",
       "    <tr>\n",
       "      <th>new_Region_Code</th>\n",
       "      <td>-1.252935e-01</td>\n",
       "      <td>1.221878e-15</td>\n",
       "      <td>-0.235614</td>\n",
       "      <td>-0.121003</td>\n",
       "      <td>-2.438844e-01</td>\n",
       "      <td>-7.198033e-02</td>\n",
       "      <td>1.000000e+00</td>\n",
       "      <td>-5.028192e-15</td>\n",
       "      <td>1.014792e-14</td>\n",
       "      <td>-6.102796e-16</td>\n",
       "    </tr>\n",
       "    <tr>\n",
       "      <th>year</th>\n",
       "      <td>4.924216e-15</td>\n",
       "      <td>1.386181e-02</td>\n",
       "      <td>0.022860</td>\n",
       "      <td>0.018284</td>\n",
       "      <td>1.093268e-14</td>\n",
       "      <td>-4.650599e-15</td>\n",
       "      <td>-5.028192e-15</td>\n",
       "      <td>1.000000e+00</td>\n",
       "      <td>-4.701419e-01</td>\n",
       "      <td>-5.078096e-03</td>\n",
       "    </tr>\n",
       "    <tr>\n",
       "      <th>month</th>\n",
       "      <td>-2.816837e-16</td>\n",
       "      <td>1.370518e-02</td>\n",
       "      <td>-0.002864</td>\n",
       "      <td>-0.018092</td>\n",
       "      <td>5.232364e-15</td>\n",
       "      <td>7.869645e-15</td>\n",
       "      <td>1.014792e-14</td>\n",
       "      <td>-4.701419e-01</td>\n",
       "      <td>1.000000e+00</td>\n",
       "      <td>1.273428e-02</td>\n",
       "    </tr>\n",
       "    <tr>\n",
       "      <th>day</th>\n",
       "      <td>-4.550589e-17</td>\n",
       "      <td>1.366827e-02</td>\n",
       "      <td>-0.017951</td>\n",
       "      <td>-0.038969</td>\n",
       "      <td>8.270544e-16</td>\n",
       "      <td>-6.244640e-17</td>\n",
       "      <td>-6.102796e-16</td>\n",
       "      <td>-5.078096e-03</td>\n",
       "      <td>1.273428e-02</td>\n",
       "      <td>1.000000e+00</td>\n",
       "    </tr>\n",
       "  </tbody>\n",
       "</table>\n",
       "</div>"
      ],
      "text/plain": [
       "                       Store_id       Holiday    #Order     Sales  \\\n",
       "Store_id           1.000000e+00  5.380970e-16  0.028290  0.004377   \n",
       "Holiday            5.380970e-16  1.000000e+00 -0.140496 -0.154779   \n",
       "#Order             2.828985e-02 -1.404963e-01  1.000000  0.941601   \n",
       "Sales              4.376631e-03 -1.547788e-01  0.941601  1.000000   \n",
       "new_Store_Type     8.627203e-02  7.021551e-16  0.583800  0.492471   \n",
       "new_Location_Type  6.729649e-02  6.219958e-16 -0.248567 -0.283771   \n",
       "new_Region_Code   -1.252935e-01  1.221878e-15 -0.235614 -0.121003   \n",
       "year               4.924216e-15  1.386181e-02  0.022860  0.018284   \n",
       "month             -2.816837e-16  1.370518e-02 -0.002864 -0.018092   \n",
       "day               -4.550589e-17  1.366827e-02 -0.017951 -0.038969   \n",
       "\n",
       "                   new_Store_Type  new_Location_Type  new_Region_Code  \\\n",
       "Store_id             8.627203e-02       6.729649e-02    -1.252935e-01   \n",
       "Holiday              7.021551e-16       6.219958e-16     1.221878e-15   \n",
       "#Order               5.838000e-01      -2.485666e-01    -2.356142e-01   \n",
       "Sales                4.924707e-01      -2.837714e-01    -1.210026e-01   \n",
       "new_Store_Type       1.000000e+00      -1.009121e-01    -2.438844e-01   \n",
       "new_Location_Type   -1.009121e-01       1.000000e+00    -7.198033e-02   \n",
       "new_Region_Code     -2.438844e-01      -7.198033e-02     1.000000e+00   \n",
       "year                 1.093268e-14      -4.650599e-15    -5.028192e-15   \n",
       "month                5.232364e-15       7.869645e-15     1.014792e-14   \n",
       "day                  8.270544e-16      -6.244640e-17    -6.102796e-16   \n",
       "\n",
       "                           year         month           day  \n",
       "Store_id           4.924216e-15 -2.816837e-16 -4.550589e-17  \n",
       "Holiday            1.386181e-02  1.370518e-02  1.366827e-02  \n",
       "#Order             2.285999e-02 -2.863725e-03 -1.795101e-02  \n",
       "Sales              1.828431e-02 -1.809195e-02 -3.896935e-02  \n",
       "new_Store_Type     1.093268e-14  5.232364e-15  8.270544e-16  \n",
       "new_Location_Type -4.650599e-15  7.869645e-15 -6.244640e-17  \n",
       "new_Region_Code   -5.028192e-15  1.014792e-14 -6.102796e-16  \n",
       "year               1.000000e+00 -4.701419e-01 -5.078096e-03  \n",
       "month             -4.701419e-01  1.000000e+00  1.273428e-02  \n",
       "day               -5.078096e-03  1.273428e-02  1.000000e+00  "
      ]
     },
     "execution_count": 12,
     "metadata": {},
     "output_type": "execute_result"
    }
   ],
   "source": [
    "# lets check the correlations\n",
    "train_df.corr()"
   ]
  },
  {
   "cell_type": "code",
   "execution_count": 13,
   "id": "03fa8e6c",
   "metadata": {},
   "outputs": [
    {
     "data": {
      "text/plain": [
       "<AxesSubplot:>"
      ]
     },
     "execution_count": 13,
     "metadata": {},
     "output_type": "execute_result"
    },
    {
     "data": {
      "image/png": "[encoded data removed]",
      "text/plain": [
       "<Figure size 432x288 with 2 Axes>"
      ]
     },
     "metadata": {
      "needs_background": "light"
     },
     "output_type": "display_data"
    }
   ],
   "source": [
    "sns.heatmap(train_df.corr())"
   ]
  },
  {
   "cell_type": "markdown",
   "id": "3c384535",
   "metadata": {},
   "source": [
    "Discovered that the order and Sales have a high correlation. Need to investigate order further."
   ]
  },
  {
   "cell_type": "code",
   "execution_count": 14,
   "id": "614bbdcd",
   "metadata": {},
   "outputs": [
    {
     "data": {
      "text/plain": [
       "299"
      ]
     },
     "execution_count": 14,
     "metadata": {},
     "output_type": "execute_result"
    }
   ],
   "source": [
    "train_df['#Order'].nunique()"
   ]
  },
  {
   "cell_type": "code",
   "execution_count": 15,
   "id": "83bc5525",
   "metadata": {},
   "outputs": [
    {
     "name": "stdout",
     "output_type": "stream",
     "text": [
      "365 365\n"
     ]
    }
   ],
   "source": [
    "print(train_df.Store_id.nunique(), test_df.Store_id.nunique())"
   ]
  },
  {
   "cell_type": "markdown",
   "id": "48673628",
   "metadata": {},
   "source": [
    "We will calculate 'orders' for test_df with the help of 'Store_id' on *Feature engineering* section"
   ]
  },
  {
   "cell_type": "code",
   "execution_count": 16,
   "id": "fe88aaa0",
   "metadata": {},
   "outputs": [
    {
     "data": {
      "text/plain": [
       "Text(0, 0.5, 'Sales')"
      ]
     },
     "execution_count": 16,
     "metadata": {},
     "output_type": "execute_result"
    },
    {
     "data": {
      "image/png": "[encoded data removed]",
      "text/plain": [
       "<Figure size 432x288 with 1 Axes>"
      ]
     },
     "metadata": {
      "needs_background": "light"
     },
     "output_type": "display_data"
    }
   ],
   "source": [
    "sales_per_order = train_df['Sales'].groupby(train_df['#Order']).mean().plot()\n",
    "plt.ylabel('Sales')"
   ]
  },
  {
   "cell_type": "code",
   "execution_count": 17,
   "id": "589a176b",
   "metadata": {},
   "outputs": [
    {
     "name": "stdout",
     "output_type": "stream",
     "text": [
      "year\n",
      "2018    42567.271022\n",
      "2019    43309.002088\n",
      "Name: Sales, dtype: float64\n"
     ]
    },
    {
     "data": {
      "image/png": "[encoded data removed]",
      "text/plain": [
       "<Figure size 432x288 with 1 Axes>"
      ]
     },
     "metadata": {
      "needs_background": "light"
     },
     "output_type": "display_data"
    }
   ],
   "source": [
    "#Avg. Sale per year\n",
    "sales_per_yr = train_df['Sales'].groupby(train_df.year).mean()\n",
    "sales_per_yr.plot(kind = \"bar\")\n",
    "plt.xlabel('Year')\n",
    "plt.ylabel('Avg. Sales')\n",
    "plt.title('Avg. Sale per year')\n",
    "print(sales_per_yr)"
   ]
  },
  {
   "cell_type": "markdown",
   "id": "6b3fd3a5",
   "metadata": {},
   "source": [
    "2019 had more sales than 2018, lets find out why?"
   ]
  },
  {
   "cell_type": "code",
   "execution_count": 18,
   "id": "5a165a41",
   "metadata": {},
   "outputs": [
    {
     "data": {
      "text/plain": [
       "Text(0.5, 1.0, 'Avg. Sale per Store_Type')"
      ]
     },
     "execution_count": 18,
     "metadata": {},
     "output_type": "execute_result"
    },
    {
     "data": {
      "image/png": "[encoded data removed]",
      "text/plain": [
       "<Figure size 432x288 with 1 Axes>"
      ]
     },
     "metadata": {
      "needs_background": "light"
     },
     "output_type": "display_data"
    }
   ],
   "source": [
    "sales_per_storetype = train_df['Sales'].groupby(train_df['new_Store_Type']).mean()\n",
    "sales_per_storetype.plot(kind = 'bar')\n",
    "plt.xlabel('Store_Type')\n",
    "plt.ylabel('Avg. Sales')\n",
    "plt.title('Avg. Sale per Store_Type')"
   ]
  },
  {
   "cell_type": "code",
   "execution_count": 19,
   "id": "6a8e3732",
   "metadata": {},
   "outputs": [
    {
     "data": {
      "text/plain": [
       "Text(0.5, 1.0, 'Avg. Sale per Store_Type')"
      ]
     },
     "execution_count": 19,
     "metadata": {},
     "output_type": "execute_result"
    },
    {
     "data": {
      "image/png": "[encoded data removed]",
      "text/plain": [
       "<Figure size 432x288 with 1 Axes>"
      ]
     },
     "metadata": {
      "needs_background": "light"
     },
     "output_type": "display_data"
    }
   ],
   "source": [
    "sales_per_storetype = train_df['Sales'].groupby(train_df['new_Store_Type']).mean()\n",
    "sales_per_storetype.plot(kind = 'bar')\n",
    "plt.xlabel('Store_Type')\n",
    "plt.ylabel('Avg. Sales')\n",
    "plt.title('Avg. Sale per Store_Type')"
   ]
  },
  {
   "cell_type": "markdown",
   "id": "8fc7e556",
   "metadata": {},
   "source": [
    "Store_Type 4 has the highest avg sale record in both years"
   ]
  },
  {
   "cell_type": "code",
   "execution_count": 20,
   "id": "9f0c1fb6",
   "metadata": {},
   "outputs": [
    {
     "data": {
      "text/plain": [
       "<AxesSubplot:xlabel='new_Location_Type'>"
      ]
     },
     "execution_count": 20,
     "metadata": {},
     "output_type": "execute_result"
    },
    {
     "data": {
      "image/png": "[encoded data removed]",
      "text/plain": [
       "<Figure size 432x288 with 1 Axes>"
      ]
     },
     "metadata": {
      "needs_background": "light"
     },
     "output_type": "display_data"
    }
   ],
   "source": [
    "train_df['Sales'].groupby(train_df['new_Location_Type']).mean().plot(kind = 'bar')"
   ]
  },
  {
   "cell_type": "code",
   "execution_count": 21,
   "id": "8bc8e89d",
   "metadata": {},
   "outputs": [
    {
     "data": {
      "text/plain": [
       "<AxesSubplot:xlabel='new_Region_Code'>"
      ]
     },
     "execution_count": 21,
     "metadata": {},
     "output_type": "execute_result"
    },
    {
     "data": {
      "image/png": "[encoded data removed]",
      "text/plain": [
       "<Figure size 432x288 with 1 Axes>"
      ]
     },
     "metadata": {
      "needs_background": "light"
     },
     "output_type": "display_data"
    }
   ],
   "source": [
    "train_df['Sales'].groupby(train_df['new_Region_Code']).mean().plot(kind = 'bar')"
   ]
  },
  {
   "cell_type": "markdown",
   "id": "c20d30db",
   "metadata": {},
   "source": [
    "Apparently location is a better contributor to sales than region also we can infer from the scales of the two graphs that region code is a subset of location code. Therefore, exploring store types based on location"
   ]
  },
  {
   "cell_type": "code",
   "execution_count": 22,
   "id": "fadbb066",
   "metadata": {},
   "outputs": [
    {
     "name": "stdout",
     "output_type": "stream",
     "text": [
      "new_Location_Type\n",
      "1    65.265938\n",
      "2    94.851456\n",
      "3    53.156943\n",
      "4    47.386028\n",
      "5    41.924131\n",
      "Name: #Order, dtype: float64\n"
     ]
    },
    {
     "data": {
      "image/png": "[encoded data removed]",
      "text/plain": [
       "<Figure size 432x288 with 1 Axes>"
      ]
     },
     "metadata": {
      "needs_background": "light"
     },
     "output_type": "display_data"
    }
   ],
   "source": [
    "train_df['#Order'].groupby(train_df['new_Location_Type']).mean().plot(kind = 'bar')\n",
    "print(train_df['#Order'].groupby(train_df['new_Location_Type']).mean())"
   ]
  },
  {
   "cell_type": "markdown",
   "id": "721eff12",
   "metadata": {},
   "source": [
    "### Feature Engineering ###"
   ]
  },
  {
   "cell_type": "markdown",
   "id": "4ed77c9c",
   "metadata": {},
   "source": [
    "##### Calculating order for test_df #####"
   ]
  },
  {
   "cell_type": "markdown",
   "id": "1c933703",
   "metadata": {},
   "source": [
    "To calculate order for test data I am imputing them with the mean() orders according to store id"
   ]
  },
  {
   "cell_type": "code",
   "execution_count": 23,
   "id": "123b28e3",
   "metadata": {},
   "outputs": [],
   "source": [
    "order = train_df.groupby(['Store_id']).mean()['#Order']"
   ]
  },
  {
   "cell_type": "code",
   "execution_count": 24,
   "id": "454422f7",
   "metadata": {},
   "outputs": [
    {
     "data": {
      "text/html": [
       "<div>\n",
       "<style scoped>\n",
       "    .dataframe tbody tr th:only-of-type {\n",
       "        vertical-align: middle;\n",
       "    }\n",
       "\n",
       "    .dataframe tbody tr th {\n",
       "        vertical-align: top;\n",
       "    }\n",
       "\n",
       "    .dataframe thead th {\n",
       "        text-align: right;\n",
       "    }\n",
       "</style>\n",
       "<table border=\"1\" class=\"dataframe\">\n",
       "  <thead>\n",
       "    <tr style=\"text-align: right;\">\n",
       "      <th></th>\n",
       "      <th>#Order</th>\n",
       "      <th>Store_id</th>\n",
       "    </tr>\n",
       "    <tr>\n",
       "      <th>Store_id</th>\n",
       "      <th></th>\n",
       "      <th></th>\n",
       "    </tr>\n",
       "  </thead>\n",
       "  <tbody>\n",
       "    <tr>\n",
       "      <th>1</th>\n",
       "      <td>59.124031</td>\n",
       "      <td>1</td>\n",
       "    </tr>\n",
       "    <tr>\n",
       "      <th>2</th>\n",
       "      <td>76.197674</td>\n",
       "      <td>2</td>\n",
       "    </tr>\n",
       "    <tr>\n",
       "      <th>3</th>\n",
       "      <td>115.284884</td>\n",
       "      <td>3</td>\n",
       "    </tr>\n",
       "    <tr>\n",
       "      <th>4</th>\n",
       "      <td>64.877907</td>\n",
       "      <td>4</td>\n",
       "    </tr>\n",
       "    <tr>\n",
       "      <th>5</th>\n",
       "      <td>68.304264</td>\n",
       "      <td>5</td>\n",
       "    </tr>\n",
       "    <tr>\n",
       "      <th>...</th>\n",
       "      <td>...</td>\n",
       "      <td>...</td>\n",
       "    </tr>\n",
       "    <tr>\n",
       "      <th>361</th>\n",
       "      <td>55.647287</td>\n",
       "      <td>361</td>\n",
       "    </tr>\n",
       "    <tr>\n",
       "      <th>362</th>\n",
       "      <td>56.926357</td>\n",
       "      <td>362</td>\n",
       "    </tr>\n",
       "    <tr>\n",
       "      <th>363</th>\n",
       "      <td>67.631783</td>\n",
       "      <td>363</td>\n",
       "    </tr>\n",
       "    <tr>\n",
       "      <th>364</th>\n",
       "      <td>45.806202</td>\n",
       "      <td>364</td>\n",
       "    </tr>\n",
       "    <tr>\n",
       "      <th>365</th>\n",
       "      <td>44.515504</td>\n",
       "      <td>365</td>\n",
       "    </tr>\n",
       "  </tbody>\n",
       "</table>\n",
       "<p>365 rows × 2 columns</p>\n",
       "</div>"
      ],
      "text/plain": [
       "              #Order  Store_id\n",
       "Store_id                      \n",
       "1          59.124031         1\n",
       "2          76.197674         2\n",
       "3         115.284884         3\n",
       "4          64.877907         4\n",
       "5          68.304264         5\n",
       "...              ...       ...\n",
       "361        55.647287       361\n",
       "362        56.926357       362\n",
       "363        67.631783       363\n",
       "364        45.806202       364\n",
       "365        44.515504       365\n",
       "\n",
       "[365 rows x 2 columns]"
      ]
     },
     "execution_count": 24,
     "metadata": {},
     "output_type": "execute_result"
    }
   ],
   "source": [
    "m=pd.DataFrame(order)\n",
    "li =[]\n",
    "for r in range(1, 366):\n",
    "    li.append(r)\n",
    "m['Store_id'] = li\n",
    "m"
   ]
  },
  {
   "cell_type": "code",
   "execution_count": 25,
   "id": "4a44518e",
   "metadata": {},
   "outputs": [],
   "source": [
    "keys = li\n",
    "values = order\n",
    "d = dict(zip(keys,values))"
   ]
  },
  {
   "cell_type": "code",
   "execution_count": 26,
   "id": "cf6afd1b",
   "metadata": {},
   "outputs": [
    {
     "data": {
      "text/html": [
       "<div>\n",
       "<style scoped>\n",
       "    .dataframe tbody tr th:only-of-type {\n",
       "        vertical-align: middle;\n",
       "    }\n",
       "\n",
       "    .dataframe tbody tr th {\n",
       "        vertical-align: top;\n",
       "    }\n",
       "\n",
       "    .dataframe thead th {\n",
       "        text-align: right;\n",
       "    }\n",
       "</style>\n",
       "<table border=\"1\" class=\"dataframe\">\n",
       "  <thead>\n",
       "    <tr style=\"text-align: right;\">\n",
       "      <th></th>\n",
       "      <th>ID</th>\n",
       "      <th>Store_id</th>\n",
       "      <th>Store_Type</th>\n",
       "      <th>Location_Type</th>\n",
       "      <th>Region_Code</th>\n",
       "      <th>Date</th>\n",
       "      <th>Holiday</th>\n",
       "      <th>Discount</th>\n",
       "      <th>new_Store_Type</th>\n",
       "      <th>new_Location_Type</th>\n",
       "      <th>new_Region_Code</th>\n",
       "      <th>year</th>\n",
       "      <th>month</th>\n",
       "      <th>day</th>\n",
       "      <th>#Order</th>\n",
       "    </tr>\n",
       "  </thead>\n",
       "  <tbody>\n",
       "    <tr>\n",
       "      <th>0</th>\n",
       "      <td>T1188341</td>\n",
       "      <td>171</td>\n",
       "      <td>S4</td>\n",
       "      <td>L2</td>\n",
       "      <td>R3</td>\n",
       "      <td>2019-06-01</td>\n",
       "      <td>0</td>\n",
       "      <td>No</td>\n",
       "      <td>4</td>\n",
       "      <td>2</td>\n",
       "      <td>3</td>\n",
       "      <td>2019</td>\n",
       "      <td>6</td>\n",
       "      <td>1</td>\n",
       "      <td>90.912791</td>\n",
       "    </tr>\n",
       "    <tr>\n",
       "      <th>1</th>\n",
       "      <td>T1188342</td>\n",
       "      <td>172</td>\n",
       "      <td>S1</td>\n",
       "      <td>L1</td>\n",
       "      <td>R1</td>\n",
       "      <td>2019-06-01</td>\n",
       "      <td>0</td>\n",
       "      <td>No</td>\n",
       "      <td>1</td>\n",
       "      <td>1</td>\n",
       "      <td>1</td>\n",
       "      <td>2019</td>\n",
       "      <td>6</td>\n",
       "      <td>1</td>\n",
       "      <td>64.279070</td>\n",
       "    </tr>\n",
       "    <tr>\n",
       "      <th>2</th>\n",
       "      <td>T1188343</td>\n",
       "      <td>173</td>\n",
       "      <td>S4</td>\n",
       "      <td>L2</td>\n",
       "      <td>R1</td>\n",
       "      <td>2019-06-01</td>\n",
       "      <td>0</td>\n",
       "      <td>No</td>\n",
       "      <td>4</td>\n",
       "      <td>2</td>\n",
       "      <td>1</td>\n",
       "      <td>2019</td>\n",
       "      <td>6</td>\n",
       "      <td>1</td>\n",
       "      <td>115.833333</td>\n",
       "    </tr>\n",
       "    <tr>\n",
       "      <th>3</th>\n",
       "      <td>T1188344</td>\n",
       "      <td>174</td>\n",
       "      <td>S1</td>\n",
       "      <td>L1</td>\n",
       "      <td>R4</td>\n",
       "      <td>2019-06-01</td>\n",
       "      <td>0</td>\n",
       "      <td>No</td>\n",
       "      <td>1</td>\n",
       "      <td>1</td>\n",
       "      <td>4</td>\n",
       "      <td>2019</td>\n",
       "      <td>6</td>\n",
       "      <td>1</td>\n",
       "      <td>53.852713</td>\n",
       "    </tr>\n",
       "    <tr>\n",
       "      <th>4</th>\n",
       "      <td>T1188345</td>\n",
       "      <td>170</td>\n",
       "      <td>S1</td>\n",
       "      <td>L1</td>\n",
       "      <td>R2</td>\n",
       "      <td>2019-06-01</td>\n",
       "      <td>0</td>\n",
       "      <td>No</td>\n",
       "      <td>1</td>\n",
       "      <td>1</td>\n",
       "      <td>2</td>\n",
       "      <td>2019</td>\n",
       "      <td>6</td>\n",
       "      <td>1</td>\n",
       "      <td>57.325581</td>\n",
       "    </tr>\n",
       "    <tr>\n",
       "      <th>...</th>\n",
       "      <td>...</td>\n",
       "      <td>...</td>\n",
       "      <td>...</td>\n",
       "      <td>...</td>\n",
       "      <td>...</td>\n",
       "      <td>...</td>\n",
       "      <td>...</td>\n",
       "      <td>...</td>\n",
       "      <td>...</td>\n",
       "      <td>...</td>\n",
       "      <td>...</td>\n",
       "      <td>...</td>\n",
       "      <td>...</td>\n",
       "      <td>...</td>\n",
       "      <td>...</td>\n",
       "    </tr>\n",
       "    <tr>\n",
       "      <th>22260</th>\n",
       "      <td>T1210601</td>\n",
       "      <td>186</td>\n",
       "      <td>S2</td>\n",
       "      <td>L5</td>\n",
       "      <td>R2</td>\n",
       "      <td>2019-07-31</td>\n",
       "      <td>0</td>\n",
       "      <td>No</td>\n",
       "      <td>2</td>\n",
       "      <td>5</td>\n",
       "      <td>2</td>\n",
       "      <td>2019</td>\n",
       "      <td>7</td>\n",
       "      <td>31</td>\n",
       "      <td>33.761628</td>\n",
       "    </tr>\n",
       "    <tr>\n",
       "      <th>22261</th>\n",
       "      <td>T1210602</td>\n",
       "      <td>11</td>\n",
       "      <td>S4</td>\n",
       "      <td>L2</td>\n",
       "      <td>R1</td>\n",
       "      <td>2019-07-31</td>\n",
       "      <td>0</td>\n",
       "      <td>No</td>\n",
       "      <td>4</td>\n",
       "      <td>2</td>\n",
       "      <td>1</td>\n",
       "      <td>2019</td>\n",
       "      <td>7</td>\n",
       "      <td>31</td>\n",
       "      <td>110.724806</td>\n",
       "    </tr>\n",
       "    <tr>\n",
       "      <th>22262</th>\n",
       "      <td>T1210603</td>\n",
       "      <td>185</td>\n",
       "      <td>S1</td>\n",
       "      <td>L1</td>\n",
       "      <td>R3</td>\n",
       "      <td>2019-07-31</td>\n",
       "      <td>0</td>\n",
       "      <td>Yes</td>\n",
       "      <td>1</td>\n",
       "      <td>1</td>\n",
       "      <td>3</td>\n",
       "      <td>2019</td>\n",
       "      <td>7</td>\n",
       "      <td>31</td>\n",
       "      <td>58.162791</td>\n",
       "    </tr>\n",
       "    <tr>\n",
       "      <th>22263</th>\n",
       "      <td>T1210604</td>\n",
       "      <td>69</td>\n",
       "      <td>S1</td>\n",
       "      <td>L1</td>\n",
       "      <td>R4</td>\n",
       "      <td>2019-07-31</td>\n",
       "      <td>0</td>\n",
       "      <td>No</td>\n",
       "      <td>1</td>\n",
       "      <td>1</td>\n",
       "      <td>4</td>\n",
       "      <td>2019</td>\n",
       "      <td>7</td>\n",
       "      <td>31</td>\n",
       "      <td>53.228682</td>\n",
       "    </tr>\n",
       "    <tr>\n",
       "      <th>22264</th>\n",
       "      <td>T1210605</td>\n",
       "      <td>365</td>\n",
       "      <td>S2</td>\n",
       "      <td>L1</td>\n",
       "      <td>R2</td>\n",
       "      <td>2019-07-31</td>\n",
       "      <td>0</td>\n",
       "      <td>No</td>\n",
       "      <td>2</td>\n",
       "      <td>1</td>\n",
       "      <td>2</td>\n",
       "      <td>2019</td>\n",
       "      <td>7</td>\n",
       "      <td>31</td>\n",
       "      <td>44.515504</td>\n",
       "    </tr>\n",
       "  </tbody>\n",
       "</table>\n",
       "<p>22265 rows × 15 columns</p>\n",
       "</div>"
      ],
      "text/plain": [
       "             ID  Store_id Store_Type Location_Type Region_Code        Date  \\\n",
       "0      T1188341       171         S4            L2          R3  2019-06-01   \n",
       "1      T1188342       172         S1            L1          R1  2019-06-01   \n",
       "2      T1188343       173         S4            L2          R1  2019-06-01   \n",
       "3      T1188344       174         S1            L1          R4  2019-06-01   \n",
       "4      T1188345       170         S1            L1          R2  2019-06-01   \n",
       "...         ...       ...        ...           ...         ...         ...   \n",
       "22260  T1210601       186         S2            L5          R2  2019-07-31   \n",
       "22261  T1210602        11         S4            L2          R1  2019-07-31   \n",
       "22262  T1210603       185         S1            L1          R3  2019-07-31   \n",
       "22263  T1210604        69         S1            L1          R4  2019-07-31   \n",
       "22264  T1210605       365         S2            L1          R2  2019-07-31   \n",
       "\n",
       "       Holiday Discount  new_Store_Type  new_Location_Type  new_Region_Code  \\\n",
       "0            0       No               4                  2                3   \n",
       "1            0       No               1                  1                1   \n",
       "2            0       No               4                  2                1   \n",
       "3            0       No               1                  1                4   \n",
       "4            0       No               1                  1                2   \n",
       "...        ...      ...             ...                ...              ...   \n",
       "22260        0       No               2                  5                2   \n",
       "22261        0       No               4                  2                1   \n",
       "22262        0      Yes               1                  1                3   \n",
       "22263        0       No               1                  1                4   \n",
       "22264        0       No               2                  1                2   \n",
       "\n",
       "       year  month  day      #Order  \n",
       "0      2019      6    1   90.912791  \n",
       "1      2019      6    1   64.279070  \n",
       "2      2019      6    1  115.833333  \n",
       "3      2019      6    1   53.852713  \n",
       "4      2019      6    1   57.325581  \n",
       "...     ...    ...  ...         ...  \n",
       "22260  2019      7   31   33.761628  \n",
       "22261  2019      7   31  110.724806  \n",
       "22262  2019      7   31   58.162791  \n",
       "22263  2019      7   31   53.228682  \n",
       "22264  2019      7   31   44.515504  \n",
       "\n",
       "[22265 rows x 15 columns]"
      ]
     },
     "execution_count": 26,
     "metadata": {},
     "output_type": "execute_result"
    }
   ],
   "source": [
    "test_df[\"#Order\"] = test_df['Store_id'].map(d)\n",
    "test_df"
   ]
  },
  {
   "cell_type": "markdown",
   "id": "e1c015ad",
   "metadata": {},
   "source": [
    "##### Store rating\n",
    "Since store id is having a positive impact on sales so it is crucial to find a rating scheme for each and every store. Often, good stores makes more sales than other mediocre ones. Lets find the those stores."
   ]
  },
  {
   "cell_type": "code",
   "execution_count": 27,
   "id": "33275edc",
   "metadata": {},
   "outputs": [
    {
     "data": {
      "text/plain": [
       "new_Store_Type  new_Location_Type\n",
       "1               1                     58.398077\n",
       "                2                     65.204873\n",
       "                3                     56.496124\n",
       "                4                     53.067668\n",
       "                5                     54.465393\n",
       "2               1                     44.255599\n",
       "                3                     42.177110\n",
       "                4                     39.810508\n",
       "                5                     37.534690\n",
       "3               1                     73.012299\n",
       "                2                     74.859388\n",
       "                3                     72.513566\n",
       "4               1                     91.009546\n",
       "                2                    107.349994\n",
       "Name: #Order, dtype: float64"
      ]
     },
     "execution_count": 27,
     "metadata": {},
     "output_type": "execute_result"
    }
   ],
   "source": [
    "mean_order = train_df.groupby(['new_Store_Type', 'new_Location_Type']).mean()['#Order']\n",
    "mean_order"
   ]
  },
  {
   "cell_type": "code",
   "execution_count": 28,
   "id": "e2b2d125",
   "metadata": {},
   "outputs": [],
   "source": [
    "mean_or = []\n",
    "for j,k in zip(train_df['new_Store_Type'], train_df['new_Location_Type']):\n",
    "    if(j == 1 and k == 1):\n",
    "        mean_or.append(58.398077)\n",
    "    if(j == 1 and k == 2):\n",
    "        mean_or.append(65.204873)\n",
    "    if(j == 1 and k == 3):\n",
    "        mean_or.append(56.496124)\n",
    "    if(j == 1 and k == 4):\n",
    "        mean_or.append(53.067668)\n",
    "    if(j == 1 and k == 5):\n",
    "        mean_or.append(54.465393)\n",
    "    if(j == 2 and k == 1):\n",
    "        mean_or.append(44.255599)\n",
    "    if(j == 2 and k == 3):\n",
    "        mean_or.append(42.177110)  \n",
    "    if(j == 2 and k == 4):\n",
    "        mean_or.append(39.810508)  \n",
    "    if(j == 2 and k == 5):\n",
    "        mean_or.append(37.534690)  \n",
    "    if(j == 3 and k == 1):\n",
    "        mean_or.append(73.012299)  \n",
    "    if(j == 3 and k == 2):\n",
    "        mean_or.append(74.859388)  \n",
    "    if(j == 3 and k == 3):\n",
    "        mean_or.append(72.513566)  \n",
    "    if(j == 4 and k == 1):\n",
    "        mean_or.append(91.009546)  \n",
    "    if(j == 4 and k == 2):\n",
    "        mean_or.append(107.349994)  "
   ]
  },
  {
   "cell_type": "code",
   "execution_count": 29,
   "id": "a7d2f446",
   "metadata": {},
   "outputs": [],
   "source": [
    "train_df['mean_or'] = mean_or"
   ]
  },
  {
   "cell_type": "code",
   "execution_count": 30,
   "id": "67668264",
   "metadata": {},
   "outputs": [],
   "source": [
    "# Rating the stores such that if orders are less than mean_order then its underperforming, \n",
    "#if orders are greater than mean_order then its mediocre, if orders are much grater then mean_order then its over_performing\n",
    "def store_ratings(row):\n",
    "    store_ratings = []\n",
    "    if (row['#Order'] <= row['mean_or']):\n",
    "        return 1\n",
    "    if (row['#Order'] > row['mean_or']):\n",
    "        return 2\n",
    "    if (row['#Order'] > row['mean_or']+5):\n",
    "        return 3\n",
    "\n",
    "train_df.loc[:, 'store_rating'] = train_df.apply(store_ratings, axis = 1)"
   ]
  },
  {
   "cell_type": "code",
   "execution_count": 31,
   "id": "9fd2f4c7",
   "metadata": {},
   "outputs": [
    {
     "data": {
      "text/html": [
       "<div>\n",
       "<style scoped>\n",
       "    .dataframe tbody tr th:only-of-type {\n",
       "        vertical-align: middle;\n",
       "    }\n",
       "\n",
       "    .dataframe tbody tr th {\n",
       "        vertical-align: top;\n",
       "    }\n",
       "\n",
       "    .dataframe thead th {\n",
       "        text-align: right;\n",
       "    }\n",
       "</style>\n",
       "<table border=\"1\" class=\"dataframe\">\n",
       "  <thead>\n",
       "    <tr style=\"text-align: right;\">\n",
       "      <th></th>\n",
       "      <th>ID</th>\n",
       "      <th>Store_id</th>\n",
       "      <th>Store_Type</th>\n",
       "      <th>Location_Type</th>\n",
       "      <th>Region_Code</th>\n",
       "      <th>Date</th>\n",
       "      <th>Holiday</th>\n",
       "      <th>Discount</th>\n",
       "      <th>#Order</th>\n",
       "      <th>Sales</th>\n",
       "      <th>new_Store_Type</th>\n",
       "      <th>new_Location_Type</th>\n",
       "      <th>new_Region_Code</th>\n",
       "      <th>year</th>\n",
       "      <th>month</th>\n",
       "      <th>day</th>\n",
       "      <th>mean_or</th>\n",
       "      <th>store_rating</th>\n",
       "    </tr>\n",
       "  </thead>\n",
       "  <tbody>\n",
       "    <tr>\n",
       "      <th>0</th>\n",
       "      <td>T1000001</td>\n",
       "      <td>1</td>\n",
       "      <td>S1</td>\n",
       "      <td>L3</td>\n",
       "      <td>R1</td>\n",
       "      <td>2018-01-01</td>\n",
       "      <td>1</td>\n",
       "      <td>Yes</td>\n",
       "      <td>9</td>\n",
       "      <td>7011.84</td>\n",
       "      <td>1</td>\n",
       "      <td>3</td>\n",
       "      <td>1</td>\n",
       "      <td>2018</td>\n",
       "      <td>1</td>\n",
       "      <td>1</td>\n",
       "      <td>56.496124</td>\n",
       "      <td>1</td>\n",
       "    </tr>\n",
       "    <tr>\n",
       "      <th>1</th>\n",
       "      <td>T1000002</td>\n",
       "      <td>253</td>\n",
       "      <td>S4</td>\n",
       "      <td>L2</td>\n",
       "      <td>R1</td>\n",
       "      <td>2018-01-01</td>\n",
       "      <td>1</td>\n",
       "      <td>Yes</td>\n",
       "      <td>60</td>\n",
       "      <td>51789.12</td>\n",
       "      <td>4</td>\n",
       "      <td>2</td>\n",
       "      <td>1</td>\n",
       "      <td>2018</td>\n",
       "      <td>1</td>\n",
       "      <td>1</td>\n",
       "      <td>107.349994</td>\n",
       "      <td>1</td>\n",
       "    </tr>\n",
       "    <tr>\n",
       "      <th>2</th>\n",
       "      <td>T1000003</td>\n",
       "      <td>252</td>\n",
       "      <td>S3</td>\n",
       "      <td>L2</td>\n",
       "      <td>R1</td>\n",
       "      <td>2018-01-01</td>\n",
       "      <td>1</td>\n",
       "      <td>Yes</td>\n",
       "      <td>42</td>\n",
       "      <td>36868.20</td>\n",
       "      <td>3</td>\n",
       "      <td>2</td>\n",
       "      <td>1</td>\n",
       "      <td>2018</td>\n",
       "      <td>1</td>\n",
       "      <td>1</td>\n",
       "      <td>74.859388</td>\n",
       "      <td>1</td>\n",
       "    </tr>\n",
       "    <tr>\n",
       "      <th>3</th>\n",
       "      <td>T1000004</td>\n",
       "      <td>251</td>\n",
       "      <td>S2</td>\n",
       "      <td>L3</td>\n",
       "      <td>R1</td>\n",
       "      <td>2018-01-01</td>\n",
       "      <td>1</td>\n",
       "      <td>Yes</td>\n",
       "      <td>23</td>\n",
       "      <td>19715.16</td>\n",
       "      <td>2</td>\n",
       "      <td>3</td>\n",
       "      <td>1</td>\n",
       "      <td>2018</td>\n",
       "      <td>1</td>\n",
       "      <td>1</td>\n",
       "      <td>42.177110</td>\n",
       "      <td>1</td>\n",
       "    </tr>\n",
       "    <tr>\n",
       "      <th>4</th>\n",
       "      <td>T1000005</td>\n",
       "      <td>250</td>\n",
       "      <td>S2</td>\n",
       "      <td>L3</td>\n",
       "      <td>R4</td>\n",
       "      <td>2018-01-01</td>\n",
       "      <td>1</td>\n",
       "      <td>Yes</td>\n",
       "      <td>62</td>\n",
       "      <td>45614.52</td>\n",
       "      <td>2</td>\n",
       "      <td>3</td>\n",
       "      <td>4</td>\n",
       "      <td>2018</td>\n",
       "      <td>1</td>\n",
       "      <td>1</td>\n",
       "      <td>42.177110</td>\n",
       "      <td>2</td>\n",
       "    </tr>\n",
       "    <tr>\n",
       "      <th>...</th>\n",
       "      <td>...</td>\n",
       "      <td>...</td>\n",
       "      <td>...</td>\n",
       "      <td>...</td>\n",
       "      <td>...</td>\n",
       "      <td>...</td>\n",
       "      <td>...</td>\n",
       "      <td>...</td>\n",
       "      <td>...</td>\n",
       "      <td>...</td>\n",
       "      <td>...</td>\n",
       "      <td>...</td>\n",
       "      <td>...</td>\n",
       "      <td>...</td>\n",
       "      <td>...</td>\n",
       "      <td>...</td>\n",
       "      <td>...</td>\n",
       "      <td>...</td>\n",
       "    </tr>\n",
       "    <tr>\n",
       "      <th>188335</th>\n",
       "      <td>T1188336</td>\n",
       "      <td>149</td>\n",
       "      <td>S2</td>\n",
       "      <td>L3</td>\n",
       "      <td>R2</td>\n",
       "      <td>2019-05-31</td>\n",
       "      <td>1</td>\n",
       "      <td>Yes</td>\n",
       "      <td>51</td>\n",
       "      <td>37272.00</td>\n",
       "      <td>2</td>\n",
       "      <td>3</td>\n",
       "      <td>2</td>\n",
       "      <td>2019</td>\n",
       "      <td>5</td>\n",
       "      <td>31</td>\n",
       "      <td>42.177110</td>\n",
       "      <td>2</td>\n",
       "    </tr>\n",
       "    <tr>\n",
       "      <th>188336</th>\n",
       "      <td>T1188337</td>\n",
       "      <td>153</td>\n",
       "      <td>S4</td>\n",
       "      <td>L2</td>\n",
       "      <td>R1</td>\n",
       "      <td>2019-05-31</td>\n",
       "      <td>1</td>\n",
       "      <td>No</td>\n",
       "      <td>90</td>\n",
       "      <td>54572.64</td>\n",
       "      <td>4</td>\n",
       "      <td>2</td>\n",
       "      <td>1</td>\n",
       "      <td>2019</td>\n",
       "      <td>5</td>\n",
       "      <td>31</td>\n",
       "      <td>107.349994</td>\n",
       "      <td>1</td>\n",
       "    </tr>\n",
       "    <tr>\n",
       "      <th>188337</th>\n",
       "      <td>T1188338</td>\n",
       "      <td>154</td>\n",
       "      <td>S1</td>\n",
       "      <td>L3</td>\n",
       "      <td>R2</td>\n",
       "      <td>2019-05-31</td>\n",
       "      <td>1</td>\n",
       "      <td>No</td>\n",
       "      <td>56</td>\n",
       "      <td>31624.56</td>\n",
       "      <td>1</td>\n",
       "      <td>3</td>\n",
       "      <td>2</td>\n",
       "      <td>2019</td>\n",
       "      <td>5</td>\n",
       "      <td>31</td>\n",
       "      <td>56.496124</td>\n",
       "      <td>1</td>\n",
       "    </tr>\n",
       "    <tr>\n",
       "      <th>188338</th>\n",
       "      <td>T1188339</td>\n",
       "      <td>155</td>\n",
       "      <td>S3</td>\n",
       "      <td>L1</td>\n",
       "      <td>R2</td>\n",
       "      <td>2019-05-31</td>\n",
       "      <td>1</td>\n",
       "      <td>Yes</td>\n",
       "      <td>70</td>\n",
       "      <td>49162.41</td>\n",
       "      <td>3</td>\n",
       "      <td>1</td>\n",
       "      <td>2</td>\n",
       "      <td>2019</td>\n",
       "      <td>5</td>\n",
       "      <td>31</td>\n",
       "      <td>73.012299</td>\n",
       "      <td>1</td>\n",
       "    </tr>\n",
       "    <tr>\n",
       "      <th>188339</th>\n",
       "      <td>T1188340</td>\n",
       "      <td>152</td>\n",
       "      <td>S2</td>\n",
       "      <td>L1</td>\n",
       "      <td>R1</td>\n",
       "      <td>2019-05-31</td>\n",
       "      <td>1</td>\n",
       "      <td>No</td>\n",
       "      <td>47</td>\n",
       "      <td>37977.00</td>\n",
       "      <td>2</td>\n",
       "      <td>1</td>\n",
       "      <td>1</td>\n",
       "      <td>2019</td>\n",
       "      <td>5</td>\n",
       "      <td>31</td>\n",
       "      <td>44.255599</td>\n",
       "      <td>2</td>\n",
       "    </tr>\n",
       "  </tbody>\n",
       "</table>\n",
       "<p>188340 rows × 18 columns</p>\n",
       "</div>"
      ],
      "text/plain": [
       "              ID  Store_id Store_Type Location_Type Region_Code        Date  \\\n",
       "0       T1000001         1         S1            L3          R1  2018-01-01   \n",
       "1       T1000002       253         S4            L2          R1  2018-01-01   \n",
       "2       T1000003       252         S3            L2          R1  2018-01-01   \n",
       "3       T1000004       251         S2            L3          R1  2018-01-01   \n",
       "4       T1000005       250         S2            L3          R4  2018-01-01   \n",
       "...          ...       ...        ...           ...         ...         ...   \n",
       "188335  T1188336       149         S2            L3          R2  2019-05-31   \n",
       "188336  T1188337       153         S4            L2          R1  2019-05-31   \n",
       "188337  T1188338       154         S1            L3          R2  2019-05-31   \n",
       "188338  T1188339       155         S3            L1          R2  2019-05-31   \n",
       "188339  T1188340       152         S2            L1          R1  2019-05-31   \n",
       "\n",
       "        Holiday Discount  #Order     Sales  new_Store_Type  new_Location_Type  \\\n",
       "0             1      Yes       9   7011.84               1                  3   \n",
       "1             1      Yes      60  51789.12               4                  2   \n",
       "2             1      Yes      42  36868.20               3                  2   \n",
       "3             1      Yes      23  19715.16               2                  3   \n",
       "4             1      Yes      62  45614.52               2                  3   \n",
       "...         ...      ...     ...       ...             ...                ...   \n",
       "188335        1      Yes      51  37272.00               2                  3   \n",
       "188336        1       No      90  54572.64               4                  2   \n",
       "188337        1       No      56  31624.56               1                  3   \n",
       "188338        1      Yes      70  49162.41               3                  1   \n",
       "188339        1       No      47  37977.00               2                  1   \n",
       "\n",
       "        new_Region_Code  year  month  day     mean_or  store_rating  \n",
       "0                     1  2018      1    1   56.496124             1  \n",
       "1                     1  2018      1    1  107.349994             1  \n",
       "2                     1  2018      1    1   74.859388             1  \n",
       "3                     1  2018      1    1   42.177110             1  \n",
       "4                     4  2018      1    1   42.177110             2  \n",
       "...                 ...   ...    ...  ...         ...           ...  \n",
       "188335                2  2019      5   31   42.177110             2  \n",
       "188336                1  2019      5   31  107.349994             1  \n",
       "188337                2  2019      5   31   56.496124             1  \n",
       "188338                2  2019      5   31   73.012299             1  \n",
       "188339                1  2019      5   31   44.255599             2  \n",
       "\n",
       "[188340 rows x 18 columns]"
      ]
     },
     "execution_count": 31,
     "metadata": {},
     "output_type": "execute_result"
    }
   ],
   "source": [
    "train_df"
   ]
  },
  {
   "cell_type": "code",
   "execution_count": 32,
   "id": "dc5ed933",
   "metadata": {},
   "outputs": [
    {
     "data": {
      "text/plain": [
       "new_Store_Type  new_Location_Type\n",
       "1               1                     58.398077\n",
       "                2                     65.204873\n",
       "                3                     56.496124\n",
       "                4                     53.067668\n",
       "                5                     54.465393\n",
       "2               1                     44.255599\n",
       "                3                     42.177110\n",
       "                4                     39.810508\n",
       "                5                     37.534690\n",
       "3               1                     73.012299\n",
       "                2                     74.859388\n",
       "                3                     72.513566\n",
       "4               1                     91.009546\n",
       "                2                    107.349994\n",
       "Name: #Order, dtype: float64"
      ]
     },
     "execution_count": 32,
     "metadata": {},
     "output_type": "execute_result"
    }
   ],
   "source": [
    "#calculating the same for test data\n",
    "mean_order_test = test_df.groupby(['new_Store_Type', 'new_Location_Type']).mean()['#Order']\n",
    "mean_order_test"
   ]
  },
  {
   "cell_type": "code",
   "execution_count": 33,
   "id": "761389d0",
   "metadata": {},
   "outputs": [],
   "source": [
    "mean_or = []\n",
    "for j,k in zip(test_df['new_Store_Type'], test_df['new_Location_Type']):\n",
    "    if(j == 1 and k == 1):\n",
    "        mean_or.append(58.398077)\n",
    "    if(j == 1 and k == 2):\n",
    "        mean_or.append(65.204873)\n",
    "    if(j == 1 and k == 3):\n",
    "        mean_or.append(56.496124)\n",
    "    if(j == 1 and k == 4):\n",
    "        mean_or.append(53.067668)\n",
    "    if(j == 1 and k == 5):\n",
    "        mean_or.append(54.465393)\n",
    "    if(j == 2 and k == 1):\n",
    "        mean_or.append(44.255599)\n",
    "    if(j == 2 and k == 3):\n",
    "        mean_or.append(42.177110)  \n",
    "    if(j == 2 and k == 4):\n",
    "        mean_or.append(39.810508)  \n",
    "    if(j == 2 and k == 5):\n",
    "        mean_or.append(37.534690)  \n",
    "    if(j == 3 and k == 1):\n",
    "        mean_or.append(73.012299)  \n",
    "    if(j == 3 and k == 2):\n",
    "        mean_or.append(74.859388)  \n",
    "    if(j == 3 and k == 3):\n",
    "        mean_or.append(72.513566)  \n",
    "    if(j == 4 and k == 1):\n",
    "        mean_or.append(91.009546)  \n",
    "    if(j == 4 and k == 2):\n",
    "        mean_or.append(107.349994)  \n",
    "        \n",
    "test_df['mean_or'] = mean_or"
   ]
  },
  {
   "cell_type": "code",
   "execution_count": 34,
   "id": "21042530",
   "metadata": {},
   "outputs": [
    {
     "data": {
      "text/html": [
       "<div>\n",
       "<style scoped>\n",
       "    .dataframe tbody tr th:only-of-type {\n",
       "        vertical-align: middle;\n",
       "    }\n",
       "\n",
       "    .dataframe tbody tr th {\n",
       "        vertical-align: top;\n",
       "    }\n",
       "\n",
       "    .dataframe thead th {\n",
       "        text-align: right;\n",
       "    }\n",
       "</style>\n",
       "<table border=\"1\" class=\"dataframe\">\n",
       "  <thead>\n",
       "    <tr style=\"text-align: right;\">\n",
       "      <th></th>\n",
       "      <th>ID</th>\n",
       "      <th>Store_id</th>\n",
       "      <th>Store_Type</th>\n",
       "      <th>Location_Type</th>\n",
       "      <th>Region_Code</th>\n",
       "      <th>Date</th>\n",
       "      <th>Holiday</th>\n",
       "      <th>Discount</th>\n",
       "      <th>new_Store_Type</th>\n",
       "      <th>new_Location_Type</th>\n",
       "      <th>new_Region_Code</th>\n",
       "      <th>year</th>\n",
       "      <th>month</th>\n",
       "      <th>day</th>\n",
       "      <th>#Order</th>\n",
       "      <th>mean_or</th>\n",
       "      <th>store_rating</th>\n",
       "    </tr>\n",
       "  </thead>\n",
       "  <tbody>\n",
       "    <tr>\n",
       "      <th>0</th>\n",
       "      <td>T1188341</td>\n",
       "      <td>171</td>\n",
       "      <td>S4</td>\n",
       "      <td>L2</td>\n",
       "      <td>R3</td>\n",
       "      <td>2019-06-01</td>\n",
       "      <td>0</td>\n",
       "      <td>No</td>\n",
       "      <td>4</td>\n",
       "      <td>2</td>\n",
       "      <td>3</td>\n",
       "      <td>2019</td>\n",
       "      <td>6</td>\n",
       "      <td>1</td>\n",
       "      <td>90.912791</td>\n",
       "      <td>107.349994</td>\n",
       "      <td>1</td>\n",
       "    </tr>\n",
       "    <tr>\n",
       "      <th>1</th>\n",
       "      <td>T1188342</td>\n",
       "      <td>172</td>\n",
       "      <td>S1</td>\n",
       "      <td>L1</td>\n",
       "      <td>R1</td>\n",
       "      <td>2019-06-01</td>\n",
       "      <td>0</td>\n",
       "      <td>No</td>\n",
       "      <td>1</td>\n",
       "      <td>1</td>\n",
       "      <td>1</td>\n",
       "      <td>2019</td>\n",
       "      <td>6</td>\n",
       "      <td>1</td>\n",
       "      <td>64.279070</td>\n",
       "      <td>58.398077</td>\n",
       "      <td>2</td>\n",
       "    </tr>\n",
       "    <tr>\n",
       "      <th>2</th>\n",
       "      <td>T1188343</td>\n",
       "      <td>173</td>\n",
       "      <td>S4</td>\n",
       "      <td>L2</td>\n",
       "      <td>R1</td>\n",
       "      <td>2019-06-01</td>\n",
       "      <td>0</td>\n",
       "      <td>No</td>\n",
       "      <td>4</td>\n",
       "      <td>2</td>\n",
       "      <td>1</td>\n",
       "      <td>2019</td>\n",
       "      <td>6</td>\n",
       "      <td>1</td>\n",
       "      <td>115.833333</td>\n",
       "      <td>107.349994</td>\n",
       "      <td>2</td>\n",
       "    </tr>\n",
       "    <tr>\n",
       "      <th>3</th>\n",
       "      <td>T1188344</td>\n",
       "      <td>174</td>\n",
       "      <td>S1</td>\n",
       "      <td>L1</td>\n",
       "      <td>R4</td>\n",
       "      <td>2019-06-01</td>\n",
       "      <td>0</td>\n",
       "      <td>No</td>\n",
       "      <td>1</td>\n",
       "      <td>1</td>\n",
       "      <td>4</td>\n",
       "      <td>2019</td>\n",
       "      <td>6</td>\n",
       "      <td>1</td>\n",
       "      <td>53.852713</td>\n",
       "      <td>58.398077</td>\n",
       "      <td>1</td>\n",
       "    </tr>\n",
       "    <tr>\n",
       "      <th>4</th>\n",
       "      <td>T1188345</td>\n",
       "      <td>170</td>\n",
       "      <td>S1</td>\n",
       "      <td>L1</td>\n",
       "      <td>R2</td>\n",
       "      <td>2019-06-01</td>\n",
       "      <td>0</td>\n",
       "      <td>No</td>\n",
       "      <td>1</td>\n",
       "      <td>1</td>\n",
       "      <td>2</td>\n",
       "      <td>2019</td>\n",
       "      <td>6</td>\n",
       "      <td>1</td>\n",
       "      <td>57.325581</td>\n",
       "      <td>58.398077</td>\n",
       "      <td>1</td>\n",
       "    </tr>\n",
       "    <tr>\n",
       "      <th>...</th>\n",
       "      <td>...</td>\n",
       "      <td>...</td>\n",
       "      <td>...</td>\n",
       "      <td>...</td>\n",
       "      <td>...</td>\n",
       "      <td>...</td>\n",
       "      <td>...</td>\n",
       "      <td>...</td>\n",
       "      <td>...</td>\n",
       "      <td>...</td>\n",
       "      <td>...</td>\n",
       "      <td>...</td>\n",
       "      <td>...</td>\n",
       "      <td>...</td>\n",
       "      <td>...</td>\n",
       "      <td>...</td>\n",
       "      <td>...</td>\n",
       "    </tr>\n",
       "    <tr>\n",
       "      <th>22260</th>\n",
       "      <td>T1210601</td>\n",
       "      <td>186</td>\n",
       "      <td>S2</td>\n",
       "      <td>L5</td>\n",
       "      <td>R2</td>\n",
       "      <td>2019-07-31</td>\n",
       "      <td>0</td>\n",
       "      <td>No</td>\n",
       "      <td>2</td>\n",
       "      <td>5</td>\n",
       "      <td>2</td>\n",
       "      <td>2019</td>\n",
       "      <td>7</td>\n",
       "      <td>31</td>\n",
       "      <td>33.761628</td>\n",
       "      <td>37.534690</td>\n",
       "      <td>1</td>\n",
       "    </tr>\n",
       "    <tr>\n",
       "      <th>22261</th>\n",
       "      <td>T1210602</td>\n",
       "      <td>11</td>\n",
       "      <td>S4</td>\n",
       "      <td>L2</td>\n",
       "      <td>R1</td>\n",
       "      <td>2019-07-31</td>\n",
       "      <td>0</td>\n",
       "      <td>No</td>\n",
       "      <td>4</td>\n",
       "      <td>2</td>\n",
       "      <td>1</td>\n",
       "      <td>2019</td>\n",
       "      <td>7</td>\n",
       "      <td>31</td>\n",
       "      <td>110.724806</td>\n",
       "      <td>107.349994</td>\n",
       "      <td>2</td>\n",
       "    </tr>\n",
       "    <tr>\n",
       "      <th>22262</th>\n",
       "      <td>T1210603</td>\n",
       "      <td>185</td>\n",
       "      <td>S1</td>\n",
       "      <td>L1</td>\n",
       "      <td>R3</td>\n",
       "      <td>2019-07-31</td>\n",
       "      <td>0</td>\n",
       "      <td>Yes</td>\n",
       "      <td>1</td>\n",
       "      <td>1</td>\n",
       "      <td>3</td>\n",
       "      <td>2019</td>\n",
       "      <td>7</td>\n",
       "      <td>31</td>\n",
       "      <td>58.162791</td>\n",
       "      <td>58.398077</td>\n",
       "      <td>1</td>\n",
       "    </tr>\n",
       "    <tr>\n",
       "      <th>22263</th>\n",
       "      <td>T1210604</td>\n",
       "      <td>69</td>\n",
       "      <td>S1</td>\n",
       "      <td>L1</td>\n",
       "      <td>R4</td>\n",
       "      <td>2019-07-31</td>\n",
       "      <td>0</td>\n",
       "      <td>No</td>\n",
       "      <td>1</td>\n",
       "      <td>1</td>\n",
       "      <td>4</td>\n",
       "      <td>2019</td>\n",
       "      <td>7</td>\n",
       "      <td>31</td>\n",
       "      <td>53.228682</td>\n",
       "      <td>58.398077</td>\n",
       "      <td>1</td>\n",
       "    </tr>\n",
       "    <tr>\n",
       "      <th>22264</th>\n",
       "      <td>T1210605</td>\n",
       "      <td>365</td>\n",
       "      <td>S2</td>\n",
       "      <td>L1</td>\n",
       "      <td>R2</td>\n",
       "      <td>2019-07-31</td>\n",
       "      <td>0</td>\n",
       "      <td>No</td>\n",
       "      <td>2</td>\n",
       "      <td>1</td>\n",
       "      <td>2</td>\n",
       "      <td>2019</td>\n",
       "      <td>7</td>\n",
       "      <td>31</td>\n",
       "      <td>44.515504</td>\n",
       "      <td>44.255599</td>\n",
       "      <td>2</td>\n",
       "    </tr>\n",
       "  </tbody>\n",
       "</table>\n",
       "<p>22265 rows × 17 columns</p>\n",
       "</div>"
      ],
      "text/plain": [
       "             ID  Store_id Store_Type Location_Type Region_Code        Date  \\\n",
       "0      T1188341       171         S4            L2          R3  2019-06-01   \n",
       "1      T1188342       172         S1            L1          R1  2019-06-01   \n",
       "2      T1188343       173         S4            L2          R1  2019-06-01   \n",
       "3      T1188344       174         S1            L1          R4  2019-06-01   \n",
       "4      T1188345       170         S1            L1          R2  2019-06-01   \n",
       "...         ...       ...        ...           ...         ...         ...   \n",
       "22260  T1210601       186         S2            L5          R2  2019-07-31   \n",
       "22261  T1210602        11         S4            L2          R1  2019-07-31   \n",
       "22262  T1210603       185         S1            L1          R3  2019-07-31   \n",
       "22263  T1210604        69         S1            L1          R4  2019-07-31   \n",
       "22264  T1210605       365         S2            L1          R2  2019-07-31   \n",
       "\n",
       "       Holiday Discount  new_Store_Type  new_Location_Type  new_Region_Code  \\\n",
       "0            0       No               4                  2                3   \n",
       "1            0       No               1                  1                1   \n",
       "2            0       No               4                  2                1   \n",
       "3            0       No               1                  1                4   \n",
       "4            0       No               1                  1                2   \n",
       "...        ...      ...             ...                ...              ...   \n",
       "22260        0       No               2                  5                2   \n",
       "22261        0       No               4                  2                1   \n",
       "22262        0      Yes               1                  1                3   \n",
       "22263        0       No               1                  1                4   \n",
       "22264        0       No               2                  1                2   \n",
       "\n",
       "       year  month  day      #Order     mean_or  store_rating  \n",
       "0      2019      6    1   90.912791  107.349994             1  \n",
       "1      2019      6    1   64.279070   58.398077             2  \n",
       "2      2019      6    1  115.833333  107.349994             2  \n",
       "3      2019      6    1   53.852713   58.398077             1  \n",
       "4      2019      6    1   57.325581   58.398077             1  \n",
       "...     ...    ...  ...         ...         ...           ...  \n",
       "22260  2019      7   31   33.761628   37.534690             1  \n",
       "22261  2019      7   31  110.724806  107.349994             2  \n",
       "22262  2019      7   31   58.162791   58.398077             1  \n",
       "22263  2019      7   31   53.228682   58.398077             1  \n",
       "22264  2019      7   31   44.515504   44.255599             2  \n",
       "\n",
       "[22265 rows x 17 columns]"
      ]
     },
     "execution_count": 34,
     "metadata": {},
     "output_type": "execute_result"
    }
   ],
   "source": [
    "test_df.loc[:, 'store_rating'] = test_df.apply(store_ratings, axis = 1)\n",
    "test_df"
   ]
  },
  {
   "cell_type": "markdown",
   "id": "5987490d",
   "metadata": {},
   "source": [
    "### Data Preprocessing"
   ]
  },
  {
   "cell_type": "code",
   "execution_count": 35,
   "id": "23f21148",
   "metadata": {},
   "outputs": [],
   "source": [
    "copy_train_df = train_df.copy()\n",
    "copy_test_df = test_df.copy()"
   ]
  },
  {
   "cell_type": "code",
   "execution_count": 36,
   "id": "d8c4140b",
   "metadata": {},
   "outputs": [
    {
     "name": "stdout",
     "output_type": "stream",
     "text": [
      "<class 'pandas.core.frame.DataFrame'>\n",
      "RangeIndex: 188340 entries, 0 to 188339\n",
      "Data columns (total 11 columns):\n",
      " #   Column             Non-Null Count   Dtype  \n",
      "---  ------             --------------   -----  \n",
      " 0   Holiday            188340 non-null  int64  \n",
      " 1   Discount           188340 non-null  object \n",
      " 2   #Order             188340 non-null  int64  \n",
      " 3   Sales              188340 non-null  float64\n",
      " 4   new_Store_Type     188340 non-null  int64  \n",
      " 5   new_Location_Type  188340 non-null  int64  \n",
      " 6   new_Region_Code    188340 non-null  int64  \n",
      " 7   year               188340 non-null  int64  \n",
      " 8   month              188340 non-null  int64  \n",
      " 9   day                188340 non-null  int64  \n",
      " 10  store_rating       188340 non-null  int64  \n",
      "dtypes: float64(1), int64(9), object(1)\n",
      "memory usage: 15.8+ MB\n"
     ]
    }
   ],
   "source": [
    "#removing redundant columns\n",
    "train_df =  train_df.drop(columns= ['ID', 'Store_id','Store_Type', 'Location_Type', 'Region_Code', 'Date', 'mean_or'],  axis=1)\n",
    "test_df =  test_df.drop(columns= ['ID', 'Store_id','Store_Type', 'Location_Type', 'Region_Code', 'Date', 'mean_or'],  axis=1)\n",
    "train_df.info()"
   ]
  },
  {
   "cell_type": "code",
   "execution_count": 37,
   "id": "0c7b2b90",
   "metadata": {},
   "outputs": [
    {
     "name": "stdout",
     "output_type": "stream",
     "text": [
      "<class 'pandas.core.frame.DataFrame'>\n",
      "RangeIndex: 22265 entries, 0 to 22264\n",
      "Data columns (total 10 columns):\n",
      " #   Column             Non-Null Count  Dtype  \n",
      "---  ------             --------------  -----  \n",
      " 0   Holiday            22265 non-null  int64  \n",
      " 1   Discount           22265 non-null  object \n",
      " 2   new_Store_Type     22265 non-null  int64  \n",
      " 3   new_Location_Type  22265 non-null  int64  \n",
      " 4   new_Region_Code    22265 non-null  int64  \n",
      " 5   year               22265 non-null  int64  \n",
      " 6   month              22265 non-null  int64  \n",
      " 7   day                22265 non-null  int64  \n",
      " 8   #Order             22265 non-null  float64\n",
      " 9   store_rating       22265 non-null  int64  \n",
      "dtypes: float64(1), int64(8), object(1)\n",
      "memory usage: 1.7+ MB\n"
     ]
    }
   ],
   "source": [
    "test_df.info()"
   ]
  },
  {
   "cell_type": "code",
   "execution_count": 38,
   "id": "1ce96c6f",
   "metadata": {},
   "outputs": [],
   "source": [
    "#Train_test_split()\n",
    "X = train_df.loc[:, train_df.columns != 'Sales'].values\n",
    "y = train_df.iloc[:, 3:4].values\n",
    "from sklearn.model_selection import train_test_split\n",
    "X_train, X_test, y_train, y_test = train_test_split(X, y, test_size = 0.25, random_state = 0)\n",
    "#X_train = train_df.drop(columns = ['Sales']).values\n",
    "#Y_train = train_df['Sales'].values\n",
    "test = test_df.values"
   ]
  },
  {
   "cell_type": "code",
   "execution_count": 39,
   "id": "ba9c9461",
   "metadata": {},
   "outputs": [
    {
     "data": {
      "text/plain": [
       "array([[0, 'No', 4, ..., 1, 90.91279069767442, 1],\n",
       "       [0, 'No', 1, ..., 1, 64.27906976744185, 2],\n",
       "       [0, 'No', 4, ..., 1, 115.83333333333333, 2],\n",
       "       ...,\n",
       "       [0, 'Yes', 1, ..., 31, 58.16279069767442, 1],\n",
       "       [0, 'No', 1, ..., 31, 53.22868217054263, 1],\n",
       "       [0, 'No', 2, ..., 31, 44.51550387596899, 2]], dtype=object)"
      ]
     },
     "execution_count": 39,
     "metadata": {},
     "output_type": "execute_result"
    }
   ],
   "source": [
    "test"
   ]
  },
  {
   "cell_type": "code",
   "execution_count": 40,
   "id": "42c100c8",
   "metadata": {},
   "outputs": [
    {
     "name": "stderr",
     "output_type": "stream",
     "text": [
      "C:\\Users\\Sarthak\\anaconda3\\lib\\site-packages\\sklearn\\utils\\validation.py:63: DataConversionWarning: A column-vector y was passed when a 1d array was expected. Please change the shape of y to (n_samples, ), for example using ravel().\n",
      "  return f(*args, **kwargs)\n"
     ]
    }
   ],
   "source": [
    "# encoding 'discount' column\n",
    "from sklearn.preprocessing import LabelEncoder\n",
    "le = LabelEncoder()\n",
    "X_train[:, 1] = le.fit_transform(X_train[:, 1:2])\n",
    "X_test[:, 1] = le.fit_transform(X_test[:, 1:2])\n",
    "test[:, 1] = le.fit_transform(test[:, 1:2])"
   ]
  },
  {
   "cell_type": "markdown",
   "id": "0587d645",
   "metadata": {},
   "source": [
    "### Model Creation"
   ]
  },
  {
   "cell_type": "markdown",
   "id": "0afbd081",
   "metadata": {},
   "source": [
    "##### Random Forest"
   ]
  },
  {
   "cell_type": "code",
   "execution_count": 41,
   "id": "bd36b878",
   "metadata": {},
   "outputs": [
    {
     "name": "stderr",
     "output_type": "stream",
     "text": [
      "<ipython-input-41-2451e489e137>:4: DataConversionWarning: A column-vector y was passed when a 1d array was expected. Please change the shape of y to (n_samples,), for example using ravel().\n",
      "  rf_regressor.fit(X_train, y_train)\n"
     ]
    }
   ],
   "source": [
    "# Training the Random Forest regression model on the Training set\n",
    "from sklearn.ensemble import RandomForestRegressor\n",
    "rf_regressor = RandomForestRegressor(n_estimators = 10, criterion = 'mse', random_state = 0)\n",
    "rf_regressor.fit(X_train, y_train)\n",
    "\n",
    "# Predicting the Test set results\n",
    "y_pred = rf_regressor.predict(X_test)"
   ]
  },
  {
   "cell_type": "code",
   "execution_count": 42,
   "id": "b7487dbf",
   "metadata": {},
   "outputs": [
    {
     "name": "stdout",
     "output_type": "stream",
     "text": [
      "0.9600333386053884 13415506.859821288 2549.088564033147\n"
     ]
    }
   ],
   "source": [
    "from sklearn.metrics import r2_score, mean_squared_error, mean_absolute_error\n",
    "print(r2_score(y_test, y_pred), mean_squared_error(y_test, y_pred), mean_absolute_error(y_test, y_pred))"
   ]
  },
  {
   "cell_type": "markdown",
   "id": "476ae5e7",
   "metadata": {},
   "source": [
    "##### XGBoost"
   ]
  },
  {
   "cell_type": "code",
   "execution_count": 44,
   "id": "3fe0a655",
   "metadata": {},
   "outputs": [],
   "source": [
    "import xgboost as xgb"
   ]
  },
  {
   "cell_type": "code",
   "execution_count": 45,
   "id": "eac183fa",
   "metadata": {},
   "outputs": [],
   "source": [
    "dtrain = xgb.DMatrix(X_train, label=y_train)\n",
    "dtest = xgb.DMatrix(X_test, label=y_test)"
   ]
  },
  {
   "cell_type": "code",
   "execution_count": 46,
   "id": "79de1a03",
   "metadata": {},
   "outputs": [],
   "source": [
    "param = {\n",
    "    'max_depth': 7,  # the maximum depth of each tree\n",
    "    'eta': 0.3,  # the training step for each iteration\n",
    "    'subsample': 0.7,  # logging mode - quiet\n",
    "    'colsample_bytree': 0.8}  # the number of classes that exist in this datset\n",
    "num_round = 10  # the number of training iterations"
   ]
  },
  {
   "cell_type": "code",
   "execution_count": 47,
   "id": "6aca2ad5",
   "metadata": {},
   "outputs": [],
   "source": [
    "model = xgb.train(param, dtrain, num_round)"
   ]
  },
  {
   "cell_type": "code",
   "execution_count": 48,
   "id": "8b859af8",
   "metadata": {},
   "outputs": [],
   "source": [
    "preds = model.predict(dtest)"
   ]
  },
  {
   "cell_type": "code",
   "execution_count": 49,
   "id": "96e43b9c",
   "metadata": {},
   "outputs": [
    {
     "name": "stdout",
     "output_type": "stream",
     "text": [
      "0.9502132703140483 16711784.030076709 2809.5454145299886\n"
     ]
    }
   ],
   "source": [
    "print(r2_score(y_test, preds), mean_squared_error(y_test, preds), mean_absolute_error(y_test, preds))"
   ]
  },
  {
   "cell_type": "markdown",
   "id": "6e498311",
   "metadata": {},
   "source": [
    "##### ElasticNet"
   ]
  },
  {
   "cell_type": "code",
   "execution_count": 50,
   "id": "4f12c6db",
   "metadata": {},
   "outputs": [],
   "source": [
    "from sklearn.linear_model import ElasticNet\n",
    "elasticnet_model = ElasticNet()\n",
    "elasticnet_model.fit(X_train, y_train)\n",
    "\n",
    "# Predicting the Test set results\n",
    "y_predict = elasticnet_model.predict(X_test)"
   ]
  },
  {
   "cell_type": "code",
   "execution_count": 51,
   "id": "5d3dab81",
   "metadata": {},
   "outputs": [
    {
     "name": "stdout",
     "output_type": "stream",
     "text": [
      "0.906637776326717 31338658.48264132 4117.071439528521\n"
     ]
    }
   ],
   "source": [
    "print(r2_score(y_test, y_predict), mean_squared_error(y_test, y_predict), mean_absolute_error(y_test, y_predict))"
   ]
  },
  {
   "cell_type": "markdown",
   "id": "dbfee193",
   "metadata": {},
   "source": [
    "##### Saving the model"
   ]
  },
  {
   "cell_type": "code",
   "execution_count": 62,
   "id": "e39aabe1",
   "metadata": {},
   "outputs": [],
   "source": [
    "import pickle\n",
    "# Save the Modle to file in the current working directory\n",
    "Pkl_Filename = \"sales_model.pkl\"  \n",
    "\n",
    "with open(Pkl_Filename, 'wb') as file:  \n",
    "    pickle.dump(model, file)"
   ]
  },
  {
   "cell_type": "markdown",
   "id": "9b9294fb",
   "metadata": {},
   "source": [
    "##### Submission"
   ]
  },
  {
   "cell_type": "code",
   "execution_count": 52,
   "id": "dc788c18",
   "metadata": {},
   "outputs": [],
   "source": [
    "#Therefore generating the output\n",
    "final_predict = model.predict(xgb.DMatrix(test))"
   ]
  },
  {
   "cell_type": "code",
   "execution_count": 53,
   "id": "99aa5fb9",
   "metadata": {},
   "outputs": [
    {
     "data": {
      "text/plain": [
       "array([3223.8862, 2331.9673, 3763.5315, ..., 1927.7438, 1900.3625,\n",
       "       3468.8062], dtype=float32)"
      ]
     },
     "execution_count": 53,
     "metadata": {},
     "output_type": "execute_result"
    }
   ],
   "source": [
    "final_predict"
   ]
  },
  {
   "cell_type": "code",
   "execution_count": 58,
   "id": "07024f7c",
   "metadata": {},
   "outputs": [],
   "source": [
    "df = pd.DataFrame(final_predict, columns = ['Sales'])\n",
    "df['Id'] = copy_test_df.ID"
   ]
  },
  {
   "cell_type": "code",
   "execution_count": 60,
   "id": "58c89ee1",
   "metadata": {},
   "outputs": [],
   "source": [
    "filename = 'submission.csv'\n",
    "pd.DataFrame({'Id': df.Id, 'Sales': df.Sales}).to_csv(filename, index=False)"
   ]
  }
 ],
 "metadata": {
  "kernelspec": {
   "display_name": "Python 3",
   "language": "python",
   "name": "python3"
  },
  "language_info": {
   "codemirror_mode": {
    "name": "ipython",
    "version": 3
   },
   "file_extension": ".py",
   "mimetype": "text/x-python",
   "name": "python",
   "nbconvert_exporter": "python",
   "pygments_lexer": "ipython3",
   "version": "3.8.8"
  }
 },
 "nbformat": 4,
 "nbformat_minor": 5
}
